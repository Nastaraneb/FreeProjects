{
 "cells": [
  {
   "cell_type": "code",
   "execution_count": 53,
   "id": "5c5f4c38-13dd-45a7-bb4f-7e4bbeb9ca3a",
   "metadata": {},
   "outputs": [],
   "source": [
    "import numpy as np\n",
    "import pandas as pd\n",
    "import matplotlib.pyplot as plt\n",
    "import seaborn as sns\n",
    "from sklearn.model_selection import train_test_split\n",
    "from sklearn.preprocessing import StandardScaler, OneHotEncoder\n",
    "from sklearn.compose import ColumnTransformer\n",
    "from sklearn.pipeline import Pipeline\n",
    "from sklearn.ensemble import RandomForestRegressor\n",
    "from sklearn.metrics import mean_absolute_error, mean_squared_error, r2_score"
   ]
  },
  {
   "cell_type": "code",
   "execution_count": 55,
   "id": "fa3d9d87-4b1b-4c9e-a4b0-25c80f1a8ef1",
   "metadata": {},
   "outputs": [
    {
     "data": {
      "text/html": [
       "<div>\n",
       "<style scoped>\n",
       "    .dataframe tbody tr th:only-of-type {\n",
       "        vertical-align: middle;\n",
       "    }\n",
       "\n",
       "    .dataframe tbody tr th {\n",
       "        vertical-align: top;\n",
       "    }\n",
       "\n",
       "    .dataframe thead th {\n",
       "        text-align: right;\n",
       "    }\n",
       "</style>\n",
       "<table border=\"1\" class=\"dataframe\">\n",
       "  <thead>\n",
       "    <tr style=\"text-align: right;\">\n",
       "      <th></th>\n",
       "      <th>Age</th>\n",
       "      <th>Gender</th>\n",
       "      <th>Medical Condition</th>\n",
       "      <th>Glucose</th>\n",
       "      <th>Blood Pressure</th>\n",
       "      <th>BMI</th>\n",
       "      <th>Oxygen Saturation</th>\n",
       "      <th>LengthOfStay</th>\n",
       "      <th>Cholesterol</th>\n",
       "      <th>Triglycerides</th>\n",
       "      <th>HbA1c</th>\n",
       "      <th>Smoking</th>\n",
       "      <th>Alcohol</th>\n",
       "      <th>Physical Activity</th>\n",
       "      <th>Diet Score</th>\n",
       "      <th>Family History</th>\n",
       "      <th>Stress Level</th>\n",
       "      <th>Sleep Hours</th>\n",
       "      <th>random_notes</th>\n",
       "      <th>noise_col</th>\n",
       "    </tr>\n",
       "  </thead>\n",
       "  <tbody>\n",
       "    <tr>\n",
       "      <th>0</th>\n",
       "      <td>46.0</td>\n",
       "      <td>Male</td>\n",
       "      <td>Diabetes</td>\n",
       "      <td>137.04</td>\n",
       "      <td>135.27</td>\n",
       "      <td>28.90</td>\n",
       "      <td>96.04</td>\n",
       "      <td>6</td>\n",
       "      <td>231.88</td>\n",
       "      <td>210.56</td>\n",
       "      <td>7.61</td>\n",
       "      <td>0</td>\n",
       "      <td>0</td>\n",
       "      <td>-0.20</td>\n",
       "      <td>3.54</td>\n",
       "      <td>0</td>\n",
       "      <td>5.07</td>\n",
       "      <td>6.05</td>\n",
       "      <td>lorem</td>\n",
       "      <td>-137.057211</td>\n",
       "    </tr>\n",
       "    <tr>\n",
       "      <th>1</th>\n",
       "      <td>22.0</td>\n",
       "      <td>Male</td>\n",
       "      <td>Healthy</td>\n",
       "      <td>71.58</td>\n",
       "      <td>113.27</td>\n",
       "      <td>26.29</td>\n",
       "      <td>97.54</td>\n",
       "      <td>2</td>\n",
       "      <td>165.57</td>\n",
       "      <td>129.41</td>\n",
       "      <td>4.91</td>\n",
       "      <td>0</td>\n",
       "      <td>0</td>\n",
       "      <td>8.12</td>\n",
       "      <td>5.90</td>\n",
       "      <td>0</td>\n",
       "      <td>5.87</td>\n",
       "      <td>7.72</td>\n",
       "      <td>ipsum</td>\n",
       "      <td>-11.230610</td>\n",
       "    </tr>\n",
       "    <tr>\n",
       "      <th>2</th>\n",
       "      <td>50.0</td>\n",
       "      <td>NaN</td>\n",
       "      <td>Asthma</td>\n",
       "      <td>95.24</td>\n",
       "      <td>NaN</td>\n",
       "      <td>22.53</td>\n",
       "      <td>90.31</td>\n",
       "      <td>2</td>\n",
       "      <td>214.94</td>\n",
       "      <td>165.35</td>\n",
       "      <td>5.60</td>\n",
       "      <td>0</td>\n",
       "      <td>0</td>\n",
       "      <td>5.01</td>\n",
       "      <td>4.65</td>\n",
       "      <td>1</td>\n",
       "      <td>3.09</td>\n",
       "      <td>4.82</td>\n",
       "      <td>ipsum</td>\n",
       "      <td>98.331195</td>\n",
       "    </tr>\n",
       "    <tr>\n",
       "      <th>3</th>\n",
       "      <td>57.0</td>\n",
       "      <td>NaN</td>\n",
       "      <td>Obesity</td>\n",
       "      <td>NaN</td>\n",
       "      <td>130.53</td>\n",
       "      <td>38.47</td>\n",
       "      <td>96.60</td>\n",
       "      <td>5</td>\n",
       "      <td>197.71</td>\n",
       "      <td>182.13</td>\n",
       "      <td>6.92</td>\n",
       "      <td>0</td>\n",
       "      <td>0</td>\n",
       "      <td>3.16</td>\n",
       "      <td>3.37</td>\n",
       "      <td>0</td>\n",
       "      <td>3.01</td>\n",
       "      <td>5.33</td>\n",
       "      <td>lorem</td>\n",
       "      <td>44.187175</td>\n",
       "    </tr>\n",
       "    <tr>\n",
       "      <th>4</th>\n",
       "      <td>66.0</td>\n",
       "      <td>Female</td>\n",
       "      <td>Hypertension</td>\n",
       "      <td>95.15</td>\n",
       "      <td>178.17</td>\n",
       "      <td>31.12</td>\n",
       "      <td>94.90</td>\n",
       "      <td>4</td>\n",
       "      <td>259.53</td>\n",
       "      <td>115.85</td>\n",
       "      <td>5.98</td>\n",
       "      <td>0</td>\n",
       "      <td>1</td>\n",
       "      <td>3.56</td>\n",
       "      <td>3.40</td>\n",
       "      <td>0</td>\n",
       "      <td>6.38</td>\n",
       "      <td>6.64</td>\n",
       "      <td>lorem</td>\n",
       "      <td>44.831426</td>\n",
       "    </tr>\n",
       "  </tbody>\n",
       "</table>\n",
       "</div>"
      ],
      "text/plain": [
       "    Age  Gender Medical Condition  Glucose  Blood Pressure    BMI  \\\n",
       "0  46.0    Male          Diabetes   137.04          135.27  28.90   \n",
       "1  22.0    Male           Healthy    71.58          113.27  26.29   \n",
       "2  50.0     NaN            Asthma    95.24             NaN  22.53   \n",
       "3  57.0     NaN           Obesity      NaN          130.53  38.47   \n",
       "4  66.0  Female      Hypertension    95.15          178.17  31.12   \n",
       "\n",
       "   Oxygen Saturation  LengthOfStay  Cholesterol  Triglycerides  HbA1c  \\\n",
       "0              96.04             6       231.88         210.56   7.61   \n",
       "1              97.54             2       165.57         129.41   4.91   \n",
       "2              90.31             2       214.94         165.35   5.60   \n",
       "3              96.60             5       197.71         182.13   6.92   \n",
       "4              94.90             4       259.53         115.85   5.98   \n",
       "\n",
       "   Smoking  Alcohol  Physical Activity  Diet Score  Family History  \\\n",
       "0        0        0              -0.20        3.54               0   \n",
       "1        0        0               8.12        5.90               0   \n",
       "2        0        0               5.01        4.65               1   \n",
       "3        0        0               3.16        3.37               0   \n",
       "4        0        1               3.56        3.40               0   \n",
       "\n",
       "   Stress Level  Sleep Hours random_notes   noise_col  \n",
       "0          5.07         6.05        lorem -137.057211  \n",
       "1          5.87         7.72        ipsum  -11.230610  \n",
       "2          3.09         4.82        ipsum   98.331195  \n",
       "3          3.01         5.33        lorem   44.187175  \n",
       "4          6.38         6.64        lorem   44.831426  "
      ]
     },
     "execution_count": 55,
     "metadata": {},
     "output_type": "execute_result"
    }
   ],
   "source": [
    "data_file = pd.read_csv(\"dirty_v3_path.csv\")\n",
    "data_file.head()"
   ]
  },
  {
   "cell_type": "code",
   "execution_count": 7,
   "id": "cdb99269-93e7-4c28-81f8-25ae6711b378",
   "metadata": {},
   "outputs": [
    {
     "name": "stdout",
     "output_type": "stream",
     "text": [
      "<class 'pandas.core.frame.DataFrame'>\n",
      "RangeIndex: 30000 entries, 0 to 29999\n",
      "Data columns (total 20 columns):\n",
      " #   Column             Non-Null Count  Dtype  \n",
      "---  ------             --------------  -----  \n",
      " 0   Age                25500 non-null  float64\n",
      " 1   Gender             25500 non-null  object \n",
      " 2   Medical Condition  25500 non-null  object \n",
      " 3   Glucose            25500 non-null  float64\n",
      " 4   Blood Pressure     25500 non-null  float64\n",
      " 5   BMI                30000 non-null  float64\n",
      " 6   Oxygen Saturation  30000 non-null  float64\n",
      " 7   LengthOfStay       30000 non-null  int64  \n",
      " 8   Cholesterol        30000 non-null  float64\n",
      " 9   Triglycerides      30000 non-null  float64\n",
      " 10  HbA1c              30000 non-null  float64\n",
      " 11  Smoking            30000 non-null  int64  \n",
      " 12  Alcohol            30000 non-null  int64  \n",
      " 13  Physical Activity  30000 non-null  float64\n",
      " 14  Diet Score         30000 non-null  float64\n",
      " 15  Family History     30000 non-null  int64  \n",
      " 16  Stress Level       30000 non-null  float64\n",
      " 17  Sleep Hours        30000 non-null  float64\n",
      " 18  random_notes       30000 non-null  object \n",
      " 19  noise_col          30000 non-null  float64\n",
      "dtypes: float64(13), int64(4), object(3)\n",
      "memory usage: 4.6+ MB\n"
     ]
    }
   ],
   "source": [
    "data_file.info()"
   ]
  },
  {
   "cell_type": "markdown",
   "id": "b9b6416f-026b-4fe5-8e05-3ce0191c9499",
   "metadata": {},
   "source": [
    "# Predicting Length of Stay (LOS)\n",
    "It is a regression task that Predict how long a patient will stay in the hospital using their health and lifestyle features idea"
   ]
  },
  {
   "cell_type": "markdown",
   "id": "ec26a12e-c8e0-450f-8740-571445f76eac",
   "metadata": {},
   "source": [
    "## Missing Values"
   ]
  },
  {
   "cell_type": "code",
   "execution_count": 11,
   "id": "85c872bd-dc8c-4f18-84f4-7389e28ac35c",
   "metadata": {},
   "outputs": [
    {
     "name": "stdout",
     "output_type": "stream",
     "text": [
      "{'Age': 4500, 'Gender': 4500, 'Medical Condition': 4500, 'Glucose': 4500, 'Blood Pressure': 4500, 'BMI': 0, 'Oxygen Saturation': 0, 'LengthOfStay': 0, 'Cholesterol': 0, 'Triglycerides': 0, 'HbA1c': 0, 'Smoking': 0, 'Alcohol': 0, 'Physical Activity': 0, 'Diet Score': 0, 'Family History': 0, 'Stress Level': 0, 'Sleep Hours': 0, 'random_notes': 0, 'noise_col': 0}\n"
     ]
    }
   ],
   "source": [
    "number_of_nan={}\n",
    "for name in data_file.columns:\n",
    "    new=data_file[name].isnull().sum()\n",
    "    number_of_nan[name] = new\n",
    "\n",
    "print(number_of_nan)  "
   ]
  },
  {
   "cell_type": "code",
   "execution_count": 13,
   "id": "8034cefd-7334-4ec4-a165-aa5742a030b1",
   "metadata": {},
   "outputs": [
    {
     "name": "stdout",
     "output_type": "stream",
     "text": [
      "0\n"
     ]
    },
    {
     "name": "stderr",
     "output_type": "stream",
     "text": [
      "C:\\Users\\nasta\\AppData\\Local\\Temp\\ipykernel_38104\\3725926404.py:3: FutureWarning: A value is trying to be set on a copy of a DataFrame or Series through chained assignment using an inplace method.\n",
      "The behavior will change in pandas 3.0. This inplace method will never work because the intermediate object on which we are setting values always behaves as a copy.\n",
      "\n",
      "For example, when doing 'df[col].method(value, inplace=True)', try using 'df.method({col: value}, inplace=True)' or df[col] = df[col].method(value) instead, to perform the operation inplace on the original object.\n",
      "\n",
      "\n",
      "  data_file[\"Age\"].replace(np.nan, age_mean, inplace=True)\n"
     ]
    }
   ],
   "source": [
    "## replace the null values in age column with the mean value \n",
    "age_mean = data_file[\"Age\"].mean(axis=0)\n",
    "data_file[\"Age\"].replace(np.nan, age_mean, inplace=True) \n",
    "print(data_file[\"Age\"].isnull().sum())"
   ]
  },
  {
   "cell_type": "code",
   "execution_count": 15,
   "id": "fcfd1487-636f-4790-9e55-183da095017a",
   "metadata": {},
   "outputs": [
    {
     "name": "stderr",
     "output_type": "stream",
     "text": [
      "C:\\Users\\nasta\\AppData\\Local\\Temp\\ipykernel_38104\\580327685.py:4: FutureWarning: A value is trying to be set on a copy of a DataFrame or Series through chained assignment using an inplace method.\n",
      "The behavior will change in pandas 3.0. This inplace method will never work because the intermediate object on which we are setting values always behaves as a copy.\n",
      "\n",
      "For example, when doing 'df[col].method(value, inplace=True)', try using 'df.method({col: value}, inplace=True)' or df[col] = df[col].method(value) instead, to perform the operation inplace on the original object.\n",
      "\n",
      "\n",
      "  data_file[\"Gender\"].replace(np.nan,freq,inplace=True)\n"
     ]
    }
   ],
   "source": [
    "## replace gender null values with most frequent one\n",
    "freq = data_file[\"Gender\"].value_counts().idxmax()\n",
    "#print(freq)\n",
    "data_file[\"Gender\"].replace(np.nan,freq,inplace=True)"
   ]
  },
  {
   "cell_type": "code",
   "execution_count": 17,
   "id": "f731aff1-1ed0-4d22-bbf9-d38ba762d085",
   "metadata": {},
   "outputs": [
    {
     "name": "stdout",
     "output_type": "stream",
     "text": [
      "226.38\n"
     ]
    }
   ],
   "source": [
    "print(data_file[\"Blood Pressure\"].max())"
   ]
  },
  {
   "cell_type": "code",
   "execution_count": 19,
   "id": "7b3115f9-489a-4ef2-a67b-4311fed5b767",
   "metadata": {},
   "outputs": [
    {
     "name": "stdout",
     "output_type": "stream",
     "text": [
      "F-statistic: 8932.438095399837\n",
      "p-value: 0.0\n"
     ]
    }
   ],
   "source": [
    "from scipy.stats import f_oneway\n",
    "\n",
    "groups = [group['LengthOfStay'].values for name, group in data_file.groupby('Medical Condition')]\n",
    "f_stat, p_value = f_oneway(*groups)\n",
    "print(\"F-statistic:\", f_stat)\n",
    "print(\"p-value:\", p_value)\n"
   ]
  },
  {
   "cell_type": "markdown",
   "id": "f64f566b-2665-4a1a-87e9-4589f98ca9df",
   "metadata": {},
   "source": [
    "A large F-value means that the variation between groups (e.g., between different medical conditions) is much greater than the variation within each group.\n",
    "8932 is very large, which means the differences between your categories are extremely strong.\n",
    "\n",
    "A p-value of 0.0 (actually something like < 1e-10) means the chance is virtually zero.\n",
    "So, you can confidently reject the null hypothesis (which says “all group means are equal”).\n",
    "\n",
    "The Length of Stay is significantly different between medical conditions.\n",
    "In fact, the difference is so strong that it’s almost impossible to be due to chance."
   ]
  },
  {
   "cell_type": "code",
   "execution_count": 22,
   "id": "686a77b0-6c7d-4361-bb65-54a415160d7f",
   "metadata": {},
   "outputs": [
    {
     "data": {
      "text/plain": [
       "15.0"
      ]
     },
     "execution_count": 22,
     "metadata": {},
     "output_type": "execute_result"
    }
   ],
   "source": [
    "# len(data_file)\n",
    "((data_file['Medical Condition'].isna().sum())/ len(data_file))* 100\n"
   ]
  },
  {
   "cell_type": "code",
   "execution_count": 24,
   "id": "9e4260d6-ca05-4e68-bf23-08ccb9585d6f",
   "metadata": {},
   "outputs": [
    {
     "name": "stdout",
     "output_type": "stream",
     "text": [
      "0\n"
     ]
    }
   ],
   "source": [
    "# As it is 15% of the dataset, it's not a good idea to drop them, so let's just put them in another category:\n",
    "data_file[\"Medical Condition\"]= data_file[\"Medical Condition\"].fillna(\"Unknown\")\n",
    "print(data_file[\"Medical Condition\"].isnull().sum())"
   ]
  },
  {
   "cell_type": "code",
   "execution_count": 26,
   "id": "bebd4a5d-a8b9-4910-bdf8-d34c57fb5479",
   "metadata": {},
   "outputs": [
    {
     "name": "stdout",
     "output_type": "stream",
     "text": [
      "140.4553368627451\n"
     ]
    }
   ],
   "source": [
    "\n",
    "print(data_file[\"Blood Pressure\"].mean())"
   ]
  },
  {
   "cell_type": "code",
   "execution_count": 28,
   "id": "06df21f5-df04-40b6-a4f3-88f7be837011",
   "metadata": {},
   "outputs": [
    {
     "data": {
      "image/png": "[encoded data removed]",
      "text/plain": [
       "<Figure size 640x480 with 1 Axes>"
      ]
     },
     "metadata": {},
     "output_type": "display_data"
    }
   ],
   "source": [
    "data_file['Blood Pressure'].hist()\n",
    "plt.title('Blood Pressure before Imputation')\n",
    "plt.show()\n"
   ]
  },
  {
   "cell_type": "code",
   "execution_count": 30,
   "id": "06057b0e-99d6-4d85-afcb-2a7073ad3f40",
   "metadata": {},
   "outputs": [],
   "source": [
    "data_file['Blood Pressure'] = data_file['Blood Pressure'].fillna(data_file['Blood Pressure'].median())\n"
   ]
  },
  {
   "cell_type": "code",
   "execution_count": 32,
   "id": "a47e2093-6e78-4eb8-aee2-a2ef8e32173f",
   "metadata": {},
   "outputs": [
    {
     "data": {
      "image/png": "[encoded data removed]",
      "text/plain": [
       "<Figure size 640x480 with 1 Axes>"
      ]
     },
     "metadata": {},
     "output_type": "display_data"
    }
   ],
   "source": [
    "data_file['Blood Pressure'].hist()\n",
    "plt.title('Blood Pressure after Imputation')\n",
    "plt.show()"
   ]
  },
  {
   "cell_type": "code",
   "execution_count": 34,
   "id": "751b98a6-b6f3-4bca-8fdd-835256483fa5",
   "metadata": {},
   "outputs": [
    {
     "data": {
      "image/png": "[encoded data removed]",
      "text/plain": [
       "<Figure size 640x480 with 1 Axes>"
      ]
     },
     "metadata": {},
     "output_type": "display_data"
    }
   ],
   "source": [
    "data_file[\"Glucose\"].hist()\n",
    "plt.title('Glucose before Imputation')\n",
    "plt.show()\n"
   ]
  },
  {
   "cell_type": "markdown",
   "id": "614d553c-37e6-4d6c-868b-d9e964d441b0",
   "metadata": {},
   "source": [
    "Because:\n",
    "\n",
    "-15 % missing is moderate, not tiny,\n",
    "-the variable is right-skewed (not symmetrical), and\n",
    "-glucose is clinically important for predicting Length of Stay,\n",
    "\n",
    "we should not use the mean (it would pull the center upward toward the extreme diabetic values).\n",
    "median is better"
   ]
  },
  {
   "cell_type": "code",
   "execution_count": 37,
   "id": "84d076e9-6e52-458b-b8d3-087bdb76c0e3",
   "metadata": {},
   "outputs": [],
   "source": [
    "data_file['Glucose'] = data_file['Glucose'].fillna(data_file['Glucose'].median())\n"
   ]
  },
  {
   "cell_type": "code",
   "execution_count": 39,
   "id": "6ed4f25c-f6db-47ea-bc06-8dca747dc692",
   "metadata": {},
   "outputs": [
    {
     "data": {
      "image/png": "[encoded data removed]",
      "text/plain": [
       "<Figure size 640x480 with 1 Axes>"
      ]
     },
     "metadata": {},
     "output_type": "display_data"
    }
   ],
   "source": [
    "data_file[\"Glucose\"].hist()\n",
    "plt.title('Glucose after Imputation')\n",
    "plt.show()"
   ]
  },
  {
   "cell_type": "code",
   "execution_count": 41,
   "id": "dc9c39e3-7b2b-45ff-83e1-686a4a1b44df",
   "metadata": {},
   "outputs": [
    {
     "data": {
      "text/plain": [
       "count    30000.000000\n",
       "mean       121.653852\n",
       "std         38.617255\n",
       "min         20.320000\n",
       "25%         98.860000\n",
       "50%        110.500000\n",
       "75%        128.870000\n",
       "max        318.510000\n",
       "Name: Glucose, dtype: float64"
      ]
     },
     "execution_count": 41,
     "metadata": {},
     "output_type": "execute_result"
    }
   ],
   "source": [
    "data_file['Glucose'].describe()"
   ]
  },
  {
   "cell_type": "code",
   "execution_count": 43,
   "id": "02a7a2b2-fce5-4203-b0be-bd8bdc917756",
   "metadata": {},
   "outputs": [
    {
     "data": {
      "image/png": "[encoded data removed]",
      "text/plain": [
       "<Figure size 640x480 with 1 Axes>"
      ]
     },
     "metadata": {},
     "output_type": "display_data"
    }
   ],
   "source": [
    "data_file[\"LengthOfStay\"].hist()\n",
    "plt.title(\"LengthOfStay distribution\")\n",
    "plt.xlabel(\"number of days\")\n",
    "plt.ylabel(\"number of \")\n",
    "plt.show()"
   ]
  },
  {
   "cell_type": "markdown",
   "id": "08245195-72ac-4e26-9eee-fd31b056bc1b",
   "metadata": {},
   "source": [
    "seems a its skwed and need to be caful to avoid bias"
   ]
  },
  {
   "cell_type": "code",
   "execution_count": 46,
   "id": "4d1078aa-2d6b-46de-b7a6-9c483e57e57f",
   "metadata": {},
   "outputs": [
    {
     "name": "stdout",
     "output_type": "stream",
     "text": [
      "     numeric_features  correlation\n",
      "15        Sleep Hours    -0.253759\n",
      "12         Diet Score    -0.241152\n",
      "11  Physical Activity    -0.183073\n",
      "4   Oxygen Saturation    -0.145913\n",
      "3                 BMI     0.001351\n",
      "16          noise_col     0.001976\n",
      "10            Alcohol     0.031196\n",
      "2      Blood Pressure     0.034295\n",
      "13     Family History     0.051304\n",
      "7       Triglycerides     0.080654\n",
      "9             Smoking     0.094633\n",
      "6         Cholesterol     0.100028\n",
      "0                 Age     0.101568\n",
      "1             Glucose     0.209352\n",
      "8               HbA1c     0.240723\n",
      "14       Stress Level     0.264238\n",
      "5        LengthOfStay     1.000000\n"
     ]
    }
   ],
   "source": [
    "correlation_matrix = data_file.corr(numeric_only=True)\n",
    "target_matrix = correlation_matrix[\"LengthOfStay\"]\n",
    "target_corr_matrix = target_matrix.reset_index()\n",
    "target_corr_matrix.columns = [\"numeric_features\", \"correlation\"]\n",
    "target_corr_matrix = target_corr_matrix.sort_values(by = \"correlation\", ascending=True )\n",
    "print(target_corr_matrix)"
   ]
  },
  {
   "cell_type": "markdown",
   "id": "3f6324d2-39eb-4142-bece-2a5dfae5e7bb",
   "metadata": {},
   "source": [
    "some numeric features are more important than others.also logically we know that \"medical condition\" is very important."
   ]
  },
  {
   "cell_type": "code",
   "execution_count": 51,
   "id": "803b16a5-5216-481c-817a-0dffb44f446f",
   "metadata": {},
   "outputs": [
    {
     "data": {
      "text/html": [
       "<div>\n",
       "<style scoped>\n",
       "    .dataframe tbody tr th:only-of-type {\n",
       "        vertical-align: middle;\n",
       "    }\n",
       "\n",
       "    .dataframe tbody tr th {\n",
       "        vertical-align: top;\n",
       "    }\n",
       "\n",
       "    .dataframe thead th {\n",
       "        text-align: right;\n",
       "    }\n",
       "</style>\n",
       "<table border=\"1\" class=\"dataframe\">\n",
       "  <thead>\n",
       "    <tr style=\"text-align: right;\">\n",
       "      <th></th>\n",
       "      <th>Sleep Hours</th>\n",
       "      <th>Diet Score</th>\n",
       "      <th>Physical Activity</th>\n",
       "      <th>Oxygen Saturation</th>\n",
       "      <th>Cholesterol</th>\n",
       "      <th>Glucose</th>\n",
       "      <th>HbA1c</th>\n",
       "      <th>Stress Level</th>\n",
       "      <th>Medical Condition</th>\n",
       "      <th>LengthOfStay</th>\n",
       "    </tr>\n",
       "  </thead>\n",
       "  <tbody>\n",
       "    <tr>\n",
       "      <th>0</th>\n",
       "      <td>6.05</td>\n",
       "      <td>3.54</td>\n",
       "      <td>-0.20</td>\n",
       "      <td>96.04</td>\n",
       "      <td>231.88</td>\n",
       "      <td>137.04</td>\n",
       "      <td>7.61</td>\n",
       "      <td>5.07</td>\n",
       "      <td>Diabetes</td>\n",
       "      <td>6</td>\n",
       "    </tr>\n",
       "    <tr>\n",
       "      <th>1</th>\n",
       "      <td>7.72</td>\n",
       "      <td>5.90</td>\n",
       "      <td>8.12</td>\n",
       "      <td>97.54</td>\n",
       "      <td>165.57</td>\n",
       "      <td>71.58</td>\n",
       "      <td>4.91</td>\n",
       "      <td>5.87</td>\n",
       "      <td>Healthy</td>\n",
       "      <td>2</td>\n",
       "    </tr>\n",
       "    <tr>\n",
       "      <th>2</th>\n",
       "      <td>4.82</td>\n",
       "      <td>4.65</td>\n",
       "      <td>5.01</td>\n",
       "      <td>90.31</td>\n",
       "      <td>214.94</td>\n",
       "      <td>95.24</td>\n",
       "      <td>5.60</td>\n",
       "      <td>3.09</td>\n",
       "      <td>Asthma</td>\n",
       "      <td>2</td>\n",
       "    </tr>\n",
       "    <tr>\n",
       "      <th>3</th>\n",
       "      <td>5.33</td>\n",
       "      <td>3.37</td>\n",
       "      <td>3.16</td>\n",
       "      <td>96.60</td>\n",
       "      <td>197.71</td>\n",
       "      <td>110.50</td>\n",
       "      <td>6.92</td>\n",
       "      <td>3.01</td>\n",
       "      <td>Obesity</td>\n",
       "      <td>5</td>\n",
       "    </tr>\n",
       "    <tr>\n",
       "      <th>4</th>\n",
       "      <td>6.64</td>\n",
       "      <td>3.40</td>\n",
       "      <td>3.56</td>\n",
       "      <td>94.90</td>\n",
       "      <td>259.53</td>\n",
       "      <td>95.15</td>\n",
       "      <td>5.98</td>\n",
       "      <td>6.38</td>\n",
       "      <td>Hypertension</td>\n",
       "      <td>4</td>\n",
       "    </tr>\n",
       "    <tr>\n",
       "      <th>5</th>\n",
       "      <td>6.35</td>\n",
       "      <td>4.65</td>\n",
       "      <td>5.01</td>\n",
       "      <td>95.21</td>\n",
       "      <td>233.10</td>\n",
       "      <td>107.00</td>\n",
       "      <td>5.48</td>\n",
       "      <td>7.25</td>\n",
       "      <td>Hypertension</td>\n",
       "      <td>5</td>\n",
       "    </tr>\n",
       "    <tr>\n",
       "      <th>6</th>\n",
       "      <td>7.23</td>\n",
       "      <td>5.76</td>\n",
       "      <td>1.92</td>\n",
       "      <td>97.96</td>\n",
       "      <td>247.11</td>\n",
       "      <td>110.50</td>\n",
       "      <td>5.99</td>\n",
       "      <td>8.25</td>\n",
       "      <td>Hypertension</td>\n",
       "      <td>3</td>\n",
       "    </tr>\n",
       "    <tr>\n",
       "      <th>7</th>\n",
       "      <td>4.94</td>\n",
       "      <td>3.34</td>\n",
       "      <td>5.34</td>\n",
       "      <td>82.72</td>\n",
       "      <td>209.26</td>\n",
       "      <td>110.50</td>\n",
       "      <td>6.23</td>\n",
       "      <td>8.76</td>\n",
       "      <td>Cancer</td>\n",
       "      <td>19</td>\n",
       "    </tr>\n",
       "    <tr>\n",
       "      <th>8</th>\n",
       "      <td>5.87</td>\n",
       "      <td>2.99</td>\n",
       "      <td>1.66</td>\n",
       "      <td>98.62</td>\n",
       "      <td>264.69</td>\n",
       "      <td>110.50</td>\n",
       "      <td>6.83</td>\n",
       "      <td>5.93</td>\n",
       "      <td>Obesity</td>\n",
       "      <td>3</td>\n",
       "    </tr>\n",
       "    <tr>\n",
       "      <th>9</th>\n",
       "      <td>5.41</td>\n",
       "      <td>5.63</td>\n",
       "      <td>5.27</td>\n",
       "      <td>97.96</td>\n",
       "      <td>193.44</td>\n",
       "      <td>90.60</td>\n",
       "      <td>6.18</td>\n",
       "      <td>7.09</td>\n",
       "      <td>Asthma</td>\n",
       "      <td>6</td>\n",
       "    </tr>\n",
       "  </tbody>\n",
       "</table>\n",
       "</div>"
      ],
      "text/plain": [
       "   Sleep Hours  Diet Score  Physical Activity  Oxygen Saturation  Cholesterol  \\\n",
       "0         6.05        3.54              -0.20              96.04       231.88   \n",
       "1         7.72        5.90               8.12              97.54       165.57   \n",
       "2         4.82        4.65               5.01              90.31       214.94   \n",
       "3         5.33        3.37               3.16              96.60       197.71   \n",
       "4         6.64        3.40               3.56              94.90       259.53   \n",
       "5         6.35        4.65               5.01              95.21       233.10   \n",
       "6         7.23        5.76               1.92              97.96       247.11   \n",
       "7         4.94        3.34               5.34              82.72       209.26   \n",
       "8         5.87        2.99               1.66              98.62       264.69   \n",
       "9         5.41        5.63               5.27              97.96       193.44   \n",
       "\n",
       "   Glucose  HbA1c  Stress Level Medical Condition  LengthOfStay  \n",
       "0   137.04   7.61          5.07          Diabetes             6  \n",
       "1    71.58   4.91          5.87           Healthy             2  \n",
       "2    95.24   5.60          3.09            Asthma             2  \n",
       "3   110.50   6.92          3.01           Obesity             5  \n",
       "4    95.15   5.98          6.38      Hypertension             4  \n",
       "5   107.00   5.48          7.25      Hypertension             5  \n",
       "6   110.50   5.99          8.25      Hypertension             3  \n",
       "7   110.50   6.23          8.76            Cancer            19  \n",
       "8   110.50   6.83          5.93           Obesity             3  \n",
       "9    90.60   6.18          7.09            Asthma             6  "
      ]
     },
     "execution_count": 51,
     "metadata": {},
     "output_type": "execute_result"
    }
   ],
   "source": [
    "df = data_file[[\"Sleep Hours\",\"Diet Score\",\"Physical Activity\",\"Oxygen Saturation\",\"Cholesterol\",\n",
    "                \"Glucose\",\"HbA1c\",\"Stress Level\",\"Medical Condition\",\"LengthOfStay\"]]\n",
    "df.head(10)"
   ]
  },
  {
   "cell_type": "markdown",
   "id": "11de06af-6631-4b83-b67c-423359670a16",
   "metadata": {},
   "source": [
    "Now we need to smooth the scaling a bit and then try to encode the \"medical condition\" column into numerical"
   ]
  },
  {
   "cell_type": "code",
   "execution_count": 66,
   "id": "13e71bc0-b95c-4a7a-8d9b-c787c20d738f",
   "metadata": {},
   "outputs": [],
   "source": [
    "# first split into features and target\n",
    "X = df.drop(columns=['LengthOfStay'])\n",
    "y = df['LengthOfStay']\n",
    "\n",
    "num_cols = ['Sleep Hours', 'Diet Score', 'Physical Activity', 'Oxygen Saturation',\n",
    "            'Cholesterol', 'Glucose', 'HbA1c', 'Stress Level']\n",
    "cat_cols = ['Medical Condition']\n",
    "\n",
    "# Preprocessing (scaling + encoding)\n",
    "preprocessor = ColumnTransformer([\n",
    "    ('numeric', StandardScaler(), num_cols),\n",
    "    ('categorical', OneHotEncoder(handle_unknown='ignore'), cat_cols)\n",
    "])\n"
   ]
  },
  {
   "cell_type": "code",
   "execution_count": 68,
   "id": "eea4a185-67f4-4cf3-be32-2d435b91a186",
   "metadata": {},
   "outputs": [],
   "source": [
    "# now Train/test split\n",
    "X_train, X_test, y_train, y_test = train_test_split(\n",
    "    X, y, test_size=0.2, random_state=42\n",
    ")"
   ]
  },
  {
   "cell_type": "code",
   "execution_count": 72,
   "id": "8be0cf25-75d7-45d2-bdf9-3046b2660881",
   "metadata": {},
   "outputs": [],
   "source": [
    "pipe_input = [('preprocessor', preprocessor),\n",
    "    ('regressor', RandomForestRegressor(\n",
    "        n_estimators=300, random_state=42, n_jobs=-1))]\n",
    "\n",
    "pipe = Pipeline(pipe_input)\n",
    "pipe.fit(X_train, y_train)\n",
    "y_hat = pipe.predict(X_test)"
   ]
  },
  {
   "cell_type": "code",
   "execution_count": 76,
   "id": "7d90fb37-5d17-4585-abd6-56fde9420ecf",
   "metadata": {},
   "outputs": [
    {
     "name": "stdout",
     "output_type": "stream",
     "text": [
      "MAE: 1.33\n",
      "RMSE: 1.77\n",
      "R²: 0.592\n"
     ]
    }
   ],
   "source": [
    "mae = mean_absolute_error(y_test, y_hat)\n",
    "rmse = np.sqrt(mean_squared_error(y_test, y_hat))\n",
    "r2 = r2_score(y_test, y_hat)\n",
    "\n",
    "print(f\"MAE: {mae:.2f}\")\n",
    "print(f\"RMSE: {rmse:.2f}\")\n",
    "print(f\"R²: {r2:.3f}\")"
   ]
  },
  {
   "cell_type": "code",
   "execution_count": null,
   "id": "8a98936c-09f0-4cc5-9e61-3ea2610e1df9",
   "metadata": {},
   "outputs": [],
   "source": []
  }
 ],
 "metadata": {
  "kernelspec": {
   "display_name": "Python 3 (ipykernel)",
   "language": "python",
   "name": "python3"
  },
  "language_info": {
   "codemirror_mode": {
    "name": "ipython",
    "version": 3
   },
   "file_extension": ".py",
   "mimetype": "text/x-python",
   "name": "python",
   "nbconvert_exporter": "python",
   "pygments_lexer": "ipython3",
   "version": "3.12.7"
  }
 },
 "nbformat": 4,
 "nbformat_minor": 5
}
